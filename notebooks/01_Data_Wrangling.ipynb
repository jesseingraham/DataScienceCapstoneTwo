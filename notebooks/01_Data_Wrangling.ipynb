{
 "cells": [
  {
   "cell_type": "markdown",
   "id": "c0cc58ef",
   "metadata": {},
   "source": [
    "# Notebook Overview:\n",
    "..."
   ]
  },
  {
   "cell_type": "code",
   "execution_count": 5,
   "id": "571bfe4c",
   "metadata": {},
   "outputs": [],
   "source": [
    "# Imports\n",
    "import pandas as pd\n",
    "import matplotlib.pyplot as plt\n",
    "import seaborn as sns\n",
    "import os"
   ]
  },
  {
   "cell_type": "markdown",
   "id": "082576c0",
   "metadata": {},
   "source": [
    "## Data Collection"
   ]
  },
  {
   "cell_type": "code",
   "execution_count": 13,
   "id": "f3be8890",
   "metadata": {},
   "outputs": [
    {
     "name": "stdout",
     "output_type": "stream",
     "text": [
      "Requirement already satisfied: kaggle in c:\\users\\daile\\anaconda3\\lib\\site-packages (1.5.13)\n",
      "Requirement already satisfied: tqdm in c:\\users\\daile\\anaconda3\\lib\\site-packages (from kaggle) (4.64.1)\n",
      "Requirement already satisfied: urllib3 in c:\\users\\daile\\anaconda3\\lib\\site-packages (from kaggle) (1.26.11)\n",
      "Requirement already satisfied: six>=1.10 in c:\\users\\daile\\anaconda3\\lib\\site-packages (from kaggle) (1.16.0)\n",
      "Requirement already satisfied: certifi in c:\\users\\daile\\anaconda3\\lib\\site-packages (from kaggle) (2022.9.14)\n",
      "Requirement already satisfied: python-slugify in c:\\users\\daile\\anaconda3\\lib\\site-packages (from kaggle) (5.0.2)\n",
      "Requirement already satisfied: python-dateutil in c:\\users\\daile\\anaconda3\\lib\\site-packages (from kaggle) (2.8.2)\n",
      "Requirement already satisfied: requests in c:\\users\\daile\\anaconda3\\lib\\site-packages (from kaggle) (2.28.1)\n",
      "Requirement already satisfied: text-unidecode>=1.3 in c:\\users\\daile\\anaconda3\\lib\\site-packages (from python-slugify->kaggle) (1.3)\n",
      "Requirement already satisfied: idna<4,>=2.5 in c:\\users\\daile\\anaconda3\\lib\\site-packages (from requests->kaggle) (3.3)\n",
      "Requirement already satisfied: charset-normalizer<3,>=2 in c:\\users\\daile\\anaconda3\\lib\\site-packages (from requests->kaggle) (2.0.4)\n",
      "Requirement already satisfied: colorama in c:\\users\\daile\\anaconda3\\lib\\site-packages (from tqdm->kaggle) (0.4.5)\n"
     ]
    }
   ],
   "source": [
    "# Install Kaggle CLI\n",
    "!pip install kaggle"
   ]
  },
  {
   "cell_type": "code",
   "execution_count": 61,
   "id": "c87f8811",
   "metadata": {},
   "outputs": [
    {
     "name": "stdout",
     "output_type": "stream",
     "text": [
      "Downloading electric-motor-temperature.zip to data\n",
      "\n"
     ]
    },
    {
     "name": "stderr",
     "output_type": "stream",
     "text": [
      "\n",
      "  0%|          | 0.00/117M [00:00<?, ?B/s]\n",
      "  1%|          | 1.00M/117M [00:00<00:50, 2.41MB/s]\n",
      "  3%|2         | 3.00M/117M [00:00<00:17, 6.73MB/s]\n",
      "  5%|5         | 6.00M/117M [00:00<00:09, 12.7MB/s]\n",
      "  9%|8         | 10.0M/117M [00:00<00:05, 19.2MB/s]\n",
      " 11%|#1        | 13.0M/117M [00:00<00:05, 18.2MB/s]\n",
      " 14%|#3        | 16.0M/117M [00:01<00:05, 20.9MB/s]\n",
      " 16%|#6        | 19.0M/117M [00:01<00:04, 22.8MB/s]\n",
      " 19%|#8        | 22.0M/117M [00:01<00:04, 22.3MB/s]\n",
      " 21%|##1       | 25.0M/117M [00:01<00:04, 21.9MB/s]\n",
      " 24%|##4       | 28.0M/117M [00:01<00:04, 22.2MB/s]\n",
      " 27%|##6       | 31.0M/117M [00:01<00:04, 21.9MB/s]\n",
      " 29%|##9       | 34.0M/117M [00:01<00:03, 22.1MB/s]\n",
      " 32%|###1      | 37.0M/117M [00:02<00:03, 22.5MB/s]\n",
      " 34%|###4      | 40.0M/117M [00:02<00:03, 22.9MB/s]\n",
      " 37%|###6      | 43.0M/117M [00:02<00:03, 21.7MB/s]\n",
      " 39%|###9      | 46.0M/117M [00:02<00:03, 21.0MB/s]\n",
      " 42%|####2     | 49.0M/117M [00:02<00:03, 20.6MB/s]\n",
      " 44%|####3     | 51.0M/117M [00:02<00:03, 19.3MB/s]\n",
      " 45%|####5     | 53.0M/117M [00:02<00:03, 18.0MB/s]\n",
      " 47%|####7     | 55.0M/117M [00:03<00:03, 17.3MB/s]\n",
      " 49%|####8     | 57.0M/117M [00:03<00:04, 15.6MB/s]\n",
      " 51%|#####1    | 60.0M/117M [00:03<00:03, 18.8MB/s]\n",
      " 54%|#####4    | 63.0M/117M [00:03<00:02, 20.4MB/s]\n",
      " 57%|#####6    | 66.0M/117M [00:03<00:02, 23.0MB/s]\n",
      " 59%|#####9    | 69.0M/117M [00:03<00:02, 24.3MB/s]\n",
      " 62%|######1   | 72.0M/117M [00:03<00:01, 23.7MB/s]\n",
      " 64%|######4   | 75.0M/117M [00:03<00:01, 25.2MB/s]\n",
      " 67%|######6   | 78.0M/117M [00:04<00:01, 26.5MB/s]\n",
      " 69%|######9   | 81.0M/117M [00:04<00:01, 27.3MB/s]\n",
      " 72%|#######2  | 84.0M/117M [00:04<00:01, 26.7MB/s]\n",
      " 75%|#######4  | 87.0M/117M [00:04<00:01, 26.6MB/s]\n",
      " 77%|#######7  | 90.0M/117M [00:04<00:01, 27.5MB/s]\n",
      " 80%|#######9  | 93.0M/117M [00:04<00:00, 28.4MB/s]\n",
      " 82%|########2 | 96.0M/117M [00:04<00:00, 27.4MB/s]\n",
      " 85%|########4 | 99.0M/117M [00:04<00:00, 27.4MB/s]\n",
      " 88%|########7 | 102M/117M [00:05<00:00, 23.1MB/s] \n",
      " 90%|######### | 105M/117M [00:05<00:00, 23.4MB/s]\n",
      " 93%|#########2| 108M/117M [00:05<00:00, 25.3MB/s]\n",
      " 95%|#########5| 111M/117M [00:05<00:00, 26.0MB/s]\n",
      " 98%|#########7| 114M/117M [00:05<00:00, 27.1MB/s]\n",
      "100%|##########| 117M/117M [00:05<00:00, 21.9MB/s]\n"
     ]
    }
   ],
   "source": [
    "# Download Kaggle dataset to cwd\n",
    "!kaggle datasets download -d wkirgsn/electric-motor-temperature -p data/ --unzip"
   ]
  },
  {
   "cell_type": "code",
   "execution_count": 62,
   "id": "02cb59ed",
   "metadata": {},
   "outputs": [],
   "source": [
    "# Read csv\n",
    "filepath = 'data\\measures_v2.csv'\n",
    "#for chunk in pd.read_csv(filepath, chunksize=1000):\n",
    "data = pd.read_csv(filepath)"
   ]
  },
  {
   "cell_type": "code",
   "execution_count": 63,
   "id": "0c70cbca",
   "metadata": {},
   "outputs": [
    {
     "name": "stdout",
     "output_type": "stream",
     "text": [
      "(1330816, 13)\n"
     ]
    }
   ],
   "source": [
    "# Print csv shape to see what we're working with\n",
    "print(data.shape)"
   ]
  },
  {
   "cell_type": "markdown",
   "id": "95a6c213",
   "metadata": {},
   "source": [
    "# Data Organization"
   ]
  },
  {
   "cell_type": "code",
   "execution_count": null,
   "id": "f173c801",
   "metadata": {},
   "outputs": [],
   "source": []
  },
  {
   "cell_type": "markdown",
   "id": "510d0497",
   "metadata": {},
   "source": [
    "# Data Definition"
   ]
  },
  {
   "cell_type": "code",
   "execution_count": null,
   "id": "43e50e21",
   "metadata": {},
   "outputs": [],
   "source": []
  },
  {
   "cell_type": "markdown",
   "id": "27672a4d",
   "metadata": {},
   "source": [
    "# Data Cleaning"
   ]
  },
  {
   "cell_type": "code",
   "execution_count": null,
   "id": "cbf48fd4",
   "metadata": {},
   "outputs": [],
   "source": []
  },
  {
   "cell_type": "markdown",
   "id": "40f97e18",
   "metadata": {},
   "source": [
    "# Save File"
   ]
  },
  {
   "cell_type": "code",
   "execution_count": null,
   "id": "8b93173f",
   "metadata": {},
   "outputs": [],
   "source": []
  }
 ],
 "metadata": {
  "kernelspec": {
   "display_name": "Python 3 (ipykernel)",
   "language": "python",
   "name": "python3"
  },
  "language_info": {
   "codemirror_mode": {
    "name": "ipython",
    "version": 3
   },
   "file_extension": ".py",
   "mimetype": "text/x-python",
   "name": "python",
   "nbconvert_exporter": "python",
   "pygments_lexer": "ipython3",
   "version": "3.9.13"
  }
 },
 "nbformat": 4,
 "nbformat_minor": 5
}
